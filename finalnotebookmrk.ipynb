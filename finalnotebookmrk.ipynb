{
 "cells": [
  {
   "cell_type": "code",
   "execution_count": 29,
   "metadata": {},
   "outputs": [],
   "source": [
    "import pandas as pd\n",
    "import numpy as np\n",
    "%matplotlib inline\n",
    "ff = pd.read_csv(\"/home/jupyter-mrk101/finalproject/fastfoodset.csv\")\n"
   ]
  },
  {
   "cell_type": "code",
   "execution_count": 28,
   "metadata": {},
   "outputs": [
    {
     "data": {
      "text/html": [
       "<div>\n",
       "<style scoped>\n",
       "    .dataframe tbody tr th:only-of-type {\n",
       "        vertical-align: middle;\n",
       "    }\n",
       "\n",
       "    .dataframe tbody tr th {\n",
       "        vertical-align: top;\n",
       "    }\n",
       "\n",
       "    .dataframe thead th {\n",
       "        text-align: right;\n",
       "    }\n",
       "</style>\n",
       "<table border=\"1\" class=\"dataframe\">\n",
       "  <thead>\n",
       "    <tr style=\"text-align: right;\">\n",
       "      <th></th>\n",
       "      <th>index</th>\n",
       "      <th>ZIP Code</th>\n",
       "    </tr>\n",
       "  </thead>\n",
       "  <tbody>\n",
       "    <tr>\n",
       "      <th>0</th>\n",
       "      <td>15146</td>\n",
       "      <td>15</td>\n",
       "    </tr>\n",
       "    <tr>\n",
       "      <th>1</th>\n",
       "      <td>15222</td>\n",
       "      <td>10</td>\n",
       "    </tr>\n",
       "    <tr>\n",
       "      <th>2</th>\n",
       "      <td>15205</td>\n",
       "      <td>9</td>\n",
       "    </tr>\n",
       "    <tr>\n",
       "      <th>3</th>\n",
       "      <td>15213</td>\n",
       "      <td>9</td>\n",
       "    </tr>\n",
       "    <tr>\n",
       "      <th>4</th>\n",
       "      <td>15237</td>\n",
       "      <td>8</td>\n",
       "    </tr>\n",
       "  </tbody>\n",
       "</table>\n",
       "</div>"
      ],
      "text/plain": [
       "   index  ZIP Code\n",
       "0  15146        15\n",
       "1  15222        10\n",
       "2  15205         9\n",
       "3  15213         9\n",
       "4  15237         8"
      ]
     },
     "execution_count": 28,
     "metadata": {},
     "output_type": "execute_result"
    }
   ],
   "source": [
    "query= ff['Category'] == \"Take Out\"\n",
    "query.head()\n",
    "takeout= ff[query]\n",
    "freqchart=takeout[\"ZIP Code\"].value_counts().sort_values(ascending=False).reset_index()\n",
    "freqchart.head(5)"
   ]
  },
  {
   "cell_type": "code",
   "execution_count": 5,
   "metadata": {},
   "outputs": [
    {
     "name": "stdout",
     "output_type": "stream",
     "text": [
      "15146\n"
     ]
    }
   ],
   "source": [
    "maggiesbest=freqchart.iloc[0][0]\n",
    "print(maggiesbest)"
   ]
  },
  {
   "cell_type": "code",
   "execution_count": 33,
   "metadata": {},
   "outputs": [
    {
     "data": {
      "text/plain": [
       "([<matplotlib.patches.Wedge at 0x7f01c69ac1f0>,\n",
       "  <matplotlib.patches.Wedge at 0x7f01bc4fce50>,\n",
       "  <matplotlib.patches.Wedge at 0x7f01bc4fc580>,\n",
       "  <matplotlib.patches.Wedge at 0x7f01bc5259a0>,\n",
       "  <matplotlib.patches.Wedge at 0x7f01bc697670>],\n",
       " [Text(-0.9975215631414078, 0.7532932570174264, '15146'),\n",
       "  Text(-0.6896161117529137, -0.856988692113725, '15222'),\n",
       "  Text(0.5204030201561612, -0.9691133559147487, '15205'),\n",
       "  Text(1.0994782869895312, 0.03387471680422477, '15213'),\n",
       "  Text(0.5204027479513191, 0.9691135020856515, '15237')],\n",
       " [Text(-0.5985129378848446, 0.4519759542104558, '29.4%'),\n",
       "  Text(-0.3761542427743165, -0.4674483775165772, '19.6%'),\n",
       "  Text(0.28385619281245156, -0.5286072850444083, '17.6%'),\n",
       "  Text(0.5997154292670169, 0.018477118256849872, '17.6%'),\n",
       "  Text(0.2838560443370831, 0.5286073647739916, '15.7%')])"
      ]
     },
     "execution_count": 33,
     "metadata": {},
     "output_type": "execute_result"
    },
    {
     "data": {
      "image/png": "[encoded data removed]",
      "text/plain": [
       "<Figure size 432x288 with 1 Axes>"
      ]
     },
     "metadata": {},
     "output_type": "display_data"
    }
   ],
   "source": [
    "import matplotlib.pyplot as plt\n",
    "freqchart2=freqchart.iloc[:5][:]\n",
    "colors = [\"#E13F29\", \"#D69A80\", \"#D63B59\", \"#AE5552\", \"#CB5C3B\", \"#EB8076\", \"#96624E\"]\n",
    "plt.pie(freqchart2[\"ZIP Code\"],labels=freqchart2[\"index\"],shadow=False,\n",
    "    colors=colors,\n",
    "    explode=(.15, 0, 0, 0, 0),\n",
    "    startangle=90,\n",
    "    autopct='%1.1f%%',)"
   ]
  },
  {
   "cell_type": "markdown",
   "metadata": {},
   "source": [
    "**Analysis**\n",
    "\n",
    "In conclusion, the best zip code to live in is 15146 because it has the most available take out restaurants. This is best because it shows the convenience that comes with living in this zip code. This conclusion comes from finding the common theme of takeout in the categories of eache restaurant and that it covered multiple types of restauraunts unlike some of the other catagories. It did not come with neighborhoods so I grouped it by zip code as apozed to longitude/latitude sections or other geographic determinents.I added up the total takeout per zip code then used this data in its own data frame. To draw conclusions I sorted the data frame so the top takeout number would be first so I could pull that number as my winner. To represent this and the whole top 5 zipcodes I created a pie chart to show how the numbers distribute between the top 5 and to show the top zipcode had the highest takeout restaurants and that zip code is 15146."
   ]
  },
  {
   "cell_type": "code",
   "execution_count": null,
   "metadata": {},
   "outputs": [],
   "source": []
  }
 ],
 "metadata": {
  "kernelspec": {
   "display_name": "Python 3",
   "language": "python",
   "name": "python3"
  },
  "language_info": {
   "codemirror_mode": {
    "name": "ipython",
    "version": 3
   },
   "file_extension": ".py",
   "mimetype": "text/x-python",
   "name": "python",
   "nbconvert_exporter": "python",
   "pygments_lexer": "ipython3",
   "version": "3.8.3"
  }
 },
 "nbformat": 4,
 "nbformat_minor": 4
}
